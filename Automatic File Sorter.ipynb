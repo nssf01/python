{
 "cells": [
  {
   "cell_type": "code",
   "execution_count": 1,
   "id": "f7dfe445-c7a6-4bec-b4e7-bde60715732e",
   "metadata": {},
   "outputs": [],
   "source": [
    "import os, shutil"
   ]
  },
  {
   "cell_type": "code",
   "execution_count": 3,
   "id": "d5b3b710-50c5-4b41-9906-d509a5bbf820",
   "metadata": {},
   "outputs": [],
   "source": [
    "path = r\"C:/Users/nidhi/OneDrive/Documents/\""
   ]
  },
  {
   "cell_type": "code",
   "execution_count": 5,
   "id": "097ec50d-6d71-4299-8e46-2431b07f9eef",
   "metadata": {},
   "outputs": [],
   "source": [
    "file_name = os.listdir(path)"
   ]
  },
  {
   "cell_type": "code",
   "execution_count": 15,
   "id": "52574f51-7020-4536-a3e8-56e71e6f1d8e",
   "metadata": {},
   "outputs": [],
   "source": [
    "folder_names = [\"csv files\", \"image files\",\"text files\"]\n",
    "\n",
    "for loop in range(0, 3):\n",
    "    if not os.path.exists(path + folder_names[loop]):\n",
    "    #print(path + folder_names[loop])\n",
    "     os.makedirs(path + folder_names[loop])\n",
    "\n",
    "for file in file_name:\n",
    "    if \".csv\" in file and not os.path.exists(path + \"csv files/\" + file):\n",
    "        shutil.move(path + file, (path + \"csv files/\" + file))\n",
    "\n",
    "    if \".png\" in file and not os.path.exists(path + \"image files/\" + file):\n",
    "        shutil.move(path + file, (path + \"image files/\" + file))\n",
    "    if \".txt\" in file and not os.path.exists(path + \"text files/\" + file):\n",
    "        shutil.move(path + file, (path + \"text files/\" + file))\n",
    "    "
   ]
  },
  {
   "cell_type": "code",
   "execution_count": null,
   "id": "74c0ba5c-a54f-469a-9811-d734765cc923",
   "metadata": {},
   "outputs": [],
   "source": []
  }
 ],
 "metadata": {
  "kernelspec": {
   "display_name": "Python 3 (ipykernel)",
   "language": "python",
   "name": "python3"
  },
  "language_info": {
   "codemirror_mode": {
    "name": "ipython",
    "version": 3
   },
   "file_extension": ".py",
   "mimetype": "text/x-python",
   "name": "python",
   "nbconvert_exporter": "python",
   "pygments_lexer": "ipython3",
   "version": "3.12.4"
  }
 },
 "nbformat": 4,
 "nbformat_minor": 5
}
