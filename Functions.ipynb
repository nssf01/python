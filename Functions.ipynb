{
 "cells": [
  {
   "cell_type": "code",
   "execution_count": 1,
   "id": "bc875ffc-a63f-4c0a-b736-54b821e5d794",
   "metadata": {},
   "outputs": [],
   "source": [
    "def first_func():\n",
    "    print('We did it')"
   ]
  },
  {
   "cell_type": "code",
   "execution_count": 3,
   "id": "67e5b7db-8195-47dd-93ab-bc640928f819",
   "metadata": {},
   "outputs": [
    {
     "name": "stdout",
     "output_type": "stream",
     "text": [
      "We did it!\n"
     ]
    }
   ],
   "source": [
    "first_func()"
   ]
  },
  {
   "cell_type": "code",
   "execution_count": 5,
   "id": "053ac6c3-1b04-4244-bd1b-a69d1f31e2ba",
   "metadata": {},
   "outputs": [],
   "source": [
    "def number_squared(number):\n",
    "    print(number**2)\n",
    "    "
   ]
  },
  {
   "cell_type": "code",
   "execution_count": 11,
   "id": "68b864a9-aa81-4c8e-b11a-f41e7d6ea4c7",
   "metadata": {},
   "outputs": [
    {
     "name": "stdout",
     "output_type": "stream",
     "text": [
      "16\n"
     ]
    }
   ],
   "source": [
    "number_squared(4)"
   ]
  },
  {
   "cell_type": "code",
   "execution_count": 21,
   "id": "2a843cb1-1bcb-48ce-b492-a27cd7e58bba",
   "metadata": {},
   "outputs": [],
   "source": [
    "def number_squared_cust(number,power):\n",
    "    print(number**power)"
   ]
  },
  {
   "cell_type": "code",
   "execution_count": 23,
   "id": "9a908bbf-93ef-4525-a814-67b97fafd2a4",
   "metadata": {},
   "outputs": [
    {
     "name": "stdout",
     "output_type": "stream",
     "text": [
      "125\n"
     ]
    }
   ],
   "source": [
    "number_squared_cust(5,3)"
   ]
  },
  {
   "cell_type": "code",
   "execution_count": 25,
   "id": "ca787f6f-7244-498d-b2f8-ae5090c53922",
   "metadata": {},
   "outputs": [],
   "source": [
    "def number_args(*number):\n",
    "    print(number[0]*number[1])"
   ]
  },
  {
   "cell_type": "code",
   "execution_count": 27,
   "id": "6b49c612-1df1-44ee-9be4-fbfc8871b740",
   "metadata": {},
   "outputs": [
    {
     "name": "stdout",
     "output_type": "stream",
     "text": [
      "12\n"
     ]
    }
   ],
   "source": [
    "number_args(3,4,1,6,8,9)"
   ]
  },
  {
   "cell_type": "code",
   "execution_count": 41,
   "id": "482fc935-2866-4597-9bfb-b50d56af2a91",
   "metadata": {},
   "outputs": [],
   "source": [
    "args_tuple = (3,4,1,6,8,9)\n",
    "\n",
    "def number_args(*number):\n",
    "    print(number[0]*number[1])"
   ]
  },
  {
   "cell_type": "code",
   "execution_count": 43,
   "id": "ff769214-365e-49be-8eff-18fc53700b83",
   "metadata": {},
   "outputs": [
    {
     "name": "stdout",
     "output_type": "stream",
     "text": [
      "12\n"
     ]
    }
   ],
   "source": [
    "number_args(*args_tuple)"
   ]
  },
  {
   "cell_type": "code",
   "execution_count": 45,
   "id": "293a3284-79ce-4105-84ef-e8301f446e24",
   "metadata": {},
   "outputs": [],
   "source": [
    "def number_squared_cust(number,power):\n",
    "    print(number**power)"
   ]
  },
  {
   "cell_type": "code",
   "execution_count": 47,
   "id": "3a20ecd9-8d45-473d-ae02-7ef4e6d648f8",
   "metadata": {},
   "outputs": [
    {
     "name": "stdout",
     "output_type": "stream",
     "text": [
      "243\n"
     ]
    }
   ],
   "source": [
    "number_squared_cust(power = 5, number = 3)"
   ]
  },
  {
   "cell_type": "code",
   "execution_count": 49,
   "id": "b66d7c79-5c11-4e1d-a793-0a36a6f36b0b",
   "metadata": {},
   "outputs": [],
   "source": [
    "def number_squared_cust(number = 3 ,power = 5):\n",
    "    print(number**power)"
   ]
  },
  {
   "cell_type": "code",
   "execution_count": 51,
   "id": "a53f83df-f763-4f8f-813b-ec58e0f1ea4d",
   "metadata": {},
   "outputs": [
    {
     "name": "stdout",
     "output_type": "stream",
     "text": [
      "243\n"
     ]
    }
   ],
   "source": [
    "number_squared_cust()"
   ]
  },
  {
   "cell_type": "code",
   "execution_count": 57,
   "id": "4d9d0fac-0f1a-48b7-9711-40657df93a29",
   "metadata": {},
   "outputs": [],
   "source": [
    "def number_kwarg(**number):\n",
    "    print('My number is: ' + number['integer'] + ' My other number: ' + number['integer2'])"
   ]
  },
  {
   "cell_type": "code",
   "execution_count": 59,
   "id": "5224ee9a-8a17-4dcf-aae5-2b1512aeaf07",
   "metadata": {},
   "outputs": [
    {
     "name": "stdout",
     "output_type": "stream",
     "text": [
      "My number is: 4693 My other number: 3108\n"
     ]
    }
   ],
   "source": [
    "number_kwarg(integer = '4693', integer2 = '3108')"
   ]
  },
  {
   "cell_type": "code",
   "execution_count": null,
   "id": "46f4ef8d-a91d-4d14-8172-16e78a1d8a0f",
   "metadata": {},
   "outputs": [],
   "source": []
  }
 ],
 "metadata": {
  "kernelspec": {
   "display_name": "Python 3 (ipykernel)",
   "language": "python",
   "name": "python3"
  },
  "language_info": {
   "codemirror_mode": {
    "name": "ipython",
    "version": 3
   },
   "file_extension": ".py",
   "mimetype": "text/x-python",
   "name": "python",
   "nbconvert_exporter": "python",
   "pygments_lexer": "ipython3",
   "version": "3.12.4"
  }
 },
 "nbformat": 4,
 "nbformat_minor": 5
}
