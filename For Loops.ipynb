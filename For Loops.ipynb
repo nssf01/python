{
 "cells": [
  {
   "cell_type": "code",
   "execution_count": 27,
   "id": "ad8f0023-ee0c-4efa-8931-4654dddb37e0",
   "metadata": {},
   "outputs": [],
   "source": [
    "integers = [1,2,3,4,5]"
   ]
  },
  {
   "cell_type": "code",
   "execution_count": 13,
   "id": "6b4056a6-e6a0-41a8-af5e-1476cf8d7338",
   "metadata": {},
   "outputs": [
    {
     "name": "stdout",
     "output_type": "stream",
     "text": [
      "1\n",
      "2\n",
      "3\n",
      "4\n",
      "5\n"
     ]
    }
   ],
   "source": [
    "for number in integers:\n",
    "   print(number)"
   ]
  },
  {
   "cell_type": "code",
   "execution_count": 29,
   "id": "71effe77-b4ca-4872-9d9a-e0c553218d4e",
   "metadata": {},
   "outputs": [
    {
     "name": "stdout",
     "output_type": "stream",
     "text": [
      "yep!\n",
      "yep!\n",
      "yep!\n",
      "yep!\n",
      "yep!\n"
     ]
    }
   ],
   "source": [
    "for number in integers:\n",
    "   print('yep!')"
   ]
  },
  {
   "cell_type": "code",
   "execution_count": 31,
   "id": "72a01403-89c5-4c8a-9ebb-6bef4b7ab5d0",
   "metadata": {},
   "outputs": [],
   "source": [
    "integers = [1,2,3,4,5]"
   ]
  },
  {
   "cell_type": "code",
   "execution_count": 39,
   "id": "6fddea04-3b50-444c-af7f-5183837eb180",
   "metadata": {},
   "outputs": [
    {
     "name": "stdout",
     "output_type": "stream",
     "text": [
      "2\n",
      "4\n",
      "6\n",
      "8\n",
      "10\n"
     ]
    }
   ],
   "source": [
    "for jelly in integers:\n",
    "   print(jelly + jelly)"
   ]
  },
  {
   "cell_type": "code",
   "execution_count": 41,
   "id": "1f870c8b-1567-44ed-9624-381886f8f3f2",
   "metadata": {},
   "outputs": [],
   "source": [
    "ice_cream_dict = {'name': 'Alex Freberg', 'weekly intake': 5, 'favorite ice creams': ['Mint Chocolate Chip', 'Chocolate']}\n"
   ]
  },
  {
   "cell_type": "code",
   "execution_count": 43,
   "id": "d65dc0ee-4cff-4b31-a20a-ca55e230ee87",
   "metadata": {},
   "outputs": [
    {
     "name": "stdout",
     "output_type": "stream",
     "text": [
      "Alex Freberg\n",
      "5\n",
      "['Mint Chocolate Chip', 'Chocolate']\n"
     ]
    }
   ],
   "source": [
    "for cream in ice_cream_dict.values():\n",
    "    print(cream)"
   ]
  },
  {
   "cell_type": "code",
   "execution_count": 47,
   "id": "8c4ce4b5-78ee-422a-b957-529760b85ac9",
   "metadata": {},
   "outputs": [
    {
     "name": "stdout",
     "output_type": "stream",
     "text": [
      "name Alex Freberg\n",
      "weekly intake 5\n",
      "favorite ice creams ['Mint Chocolate Chip', 'Chocolate']\n"
     ]
    }
   ],
   "source": [
    "for key,value in ice_cream_dict.items():\n",
    "    print(key, value)"
   ]
  },
  {
   "cell_type": "code",
   "execution_count": 49,
   "id": "74c8dbb0-34fa-42f5-bd98-641c2852fba8",
   "metadata": {},
   "outputs": [
    {
     "name": "stdout",
     "output_type": "stream",
     "text": [
      "name -> Alex Freberg\n",
      "weekly intake -> 5\n",
      "favorite ice creams -> ['Mint Chocolate Chip', 'Chocolate']\n"
     ]
    }
   ],
   "source": [
    "for key,value in ice_cream_dict.items():\n",
    "    print(key,'->' ,value)"
   ]
  },
  {
   "cell_type": "code",
   "execution_count": null,
   "id": "5fd5d2db-ef72-4a72-86e4-013af837736b",
   "metadata": {},
   "outputs": [],
   "source": [
    "# Nested For Loop\n"
   ]
  },
  {
   "cell_type": "code",
   "execution_count": 51,
   "id": "8d84df25-467c-4b3f-bd2c-0c69311224ca",
   "metadata": {},
   "outputs": [],
   "source": [
    "flavors = ['Vanilla', 'Chocolate', 'Cookie Dough']\n",
    "toppings = ['Hot Fudge', 'Oreos', 'Marshmallows']"
   ]
  },
  {
   "cell_type": "code",
   "execution_count": 53,
   "id": "6d66dbd7-a337-4274-8d33-cd0fc4d620a5",
   "metadata": {},
   "outputs": [
    {
     "name": "stdout",
     "output_type": "stream",
     "text": [
      "Vanilla topped with Hot Fudge\n",
      "Vanilla topped with Oreos\n",
      "Vanilla topped with Marshmallows\n",
      "Chocolate topped with Hot Fudge\n",
      "Chocolate topped with Oreos\n",
      "Chocolate topped with Marshmallows\n",
      "Cookie Dough topped with Hot Fudge\n",
      "Cookie Dough topped with Oreos\n",
      "Cookie Dough topped with Marshmallows\n"
     ]
    }
   ],
   "source": [
    "for one in flavors:\n",
    "    for two in toppings:\n",
    "        print(one, 'topped with', two)"
   ]
  },
  {
   "cell_type": "code",
   "execution_count": null,
   "id": "19390a2e-1970-4f2b-89db-b0148fdae456",
   "metadata": {},
   "outputs": [],
   "source": []
  }
 ],
 "metadata": {
  "kernelspec": {
   "display_name": "Python 3 (ipykernel)",
   "language": "python",
   "name": "python3"
  },
  "language_info": {
   "codemirror_mode": {
    "name": "ipython",
    "version": 3
   },
   "file_extension": ".py",
   "mimetype": "text/x-python",
   "name": "python",
   "nbconvert_exporter": "python",
   "pygments_lexer": "ipython3",
   "version": "3.12.4"
  }
 },
 "nbformat": 4,
 "nbformat_minor": 5
}
