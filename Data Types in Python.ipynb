{
 "cells": [
  {
   "cell_type": "code",
   "execution_count": 5,
   "id": "9405c83d-7e11-46c2-b9b3-2b0125ed8dee",
   "metadata": {},
   "outputs": [
    {
     "data": {
      "text/plain": [
       "int"
      ]
     },
     "execution_count": 5,
     "metadata": {},
     "output_type": "execute_result"
    }
   ],
   "source": [
    "type(-12 + 100)\n"
   ]
  },
  {
   "cell_type": "code",
   "execution_count": 9,
   "id": "f5e110ec-eb6a-40f4-afa4-31e89677d1de",
   "metadata": {},
   "outputs": [
    {
     "data": {
      "text/plain": [
       "float"
      ]
     },
     "execution_count": 9,
     "metadata": {},
     "output_type": "execute_result"
    }
   ],
   "source": [
    "type(12 + 10.32)"
   ]
  },
  {
   "cell_type": "code",
   "execution_count": 11,
   "id": "80607efa-c7eb-4778-818a-9081dc7de5e9",
   "metadata": {},
   "outputs": [
    {
     "data": {
      "text/plain": [
       "complex"
      ]
     },
     "execution_count": 11,
     "metadata": {},
     "output_type": "execute_result"
    }
   ],
   "source": [
    "type(12 + 3j)"
   ]
  },
  {
   "cell_type": "code",
   "execution_count": 13,
   "id": "e249cde1-afcc-4a70-a4b1-1d5a6e91f1b5",
   "metadata": {},
   "outputs": [
    {
     "ename": "SyntaxError",
     "evalue": "invalid decimal literal (2215569865.py, line 1)",
     "output_type": "error",
     "traceback": [
      "\u001b[1;36m  Cell \u001b[1;32mIn[13], line 1\u001b[1;36m\u001b[0m\n\u001b[1;33m    type(12 + 3a)\u001b[0m\n\u001b[1;37m              ^\u001b[0m\n\u001b[1;31mSyntaxError\u001b[0m\u001b[1;31m:\u001b[0m invalid decimal literal\n"
     ]
    }
   ],
   "source": [
    "type(12 + 3a)"
   ]
  },
  {
   "cell_type": "code",
   "execution_count": 15,
   "id": "35e5fe89-3116-4ab8-bfd1-cf767d786748",
   "metadata": {},
   "outputs": [
    {
     "data": {
      "text/plain": [
       "bool"
      ]
     },
     "execution_count": 15,
     "metadata": {},
     "output_type": "execute_result"
    }
   ],
   "source": [
    "# Boolean\n",
    "\n",
    "type(True)"
   ]
  },
  {
   "cell_type": "code",
   "execution_count": 17,
   "id": "2c3d5174-ce79-40b5-93d4-e8db7dd1eedd",
   "metadata": {},
   "outputs": [
    {
     "data": {
      "text/plain": [
       "bool"
      ]
     },
     "execution_count": 17,
     "metadata": {},
     "output_type": "execute_result"
    }
   ],
   "source": [
    "type(False)"
   ]
  },
  {
   "cell_type": "code",
   "execution_count": 19,
   "id": "00171584-3708-4d15-8b57-f2f50a02cba7",
   "metadata": {},
   "outputs": [
    {
     "data": {
      "text/plain": [
       "bool"
      ]
     },
     "execution_count": 19,
     "metadata": {},
     "output_type": "execute_result"
    }
   ],
   "source": [
    "type(1 > 5)"
   ]
  },
  {
   "cell_type": "code",
   "execution_count": 21,
   "id": "82387ddd-538d-4493-8e92-9915461d8617",
   "metadata": {},
   "outputs": [
    {
     "data": {
      "text/plain": [
       "False"
      ]
     },
     "execution_count": 21,
     "metadata": {},
     "output_type": "execute_result"
    }
   ],
   "source": [
    "1 > 5"
   ]
  },
  {
   "cell_type": "code",
   "execution_count": 23,
   "id": "8dadebfd-35af-484d-ad8e-592ec3024a84",
   "metadata": {},
   "outputs": [
    {
     "data": {
      "text/plain": [
       "True"
      ]
     },
     "execution_count": 23,
     "metadata": {},
     "output_type": "execute_result"
    }
   ],
   "source": [
    "1 == 1"
   ]
  },
  {
   "cell_type": "code",
   "execution_count": 25,
   "id": "1d835713-d4d8-41ee-80c7-3ff45180c7e5",
   "metadata": {},
   "outputs": [
    {
     "data": {
      "text/plain": [
       "'Single quote'"
      ]
     },
     "execution_count": 25,
     "metadata": {},
     "output_type": "execute_result"
    }
   ],
   "source": [
    "# Strings\n",
    "'Single quote'"
   ]
  },
  {
   "cell_type": "code",
   "execution_count": 27,
   "id": "06f86e5d-d4bd-4694-9cb3-0485447f31dc",
   "metadata": {},
   "outputs": [
    {
     "data": {
      "text/plain": [
       "'Double Quote'"
      ]
     },
     "execution_count": 27,
     "metadata": {},
     "output_type": "execute_result"
    }
   ],
   "source": [
    "\"Double Quote\""
   ]
  },
  {
   "cell_type": "code",
   "execution_count": 31,
   "id": "2a1b9bda-08d3-45d8-bae3-891a9eb444bd",
   "metadata": {},
   "outputs": [
    {
     "data": {
      "text/plain": [
       "'The ice cream vanquished\\nmy longing for sweets,\\nupon this diet I look away,\\nit no longer exists on this day.\\n'"
      ]
     },
     "execution_count": 31,
     "metadata": {},
     "output_type": "execute_result"
    }
   ],
   "source": [
    "\"\"\"The ice cream vanquished\n",
    "my longing for sweets,\n",
    "upon this diet I look away,\n",
    "it no longer exists on this day.\n",
    "\"\"\""
   ]
  },
  {
   "cell_type": "code",
   "execution_count": 33,
   "id": "928344bd-33f7-42db-925c-2e8e253e923d",
   "metadata": {},
   "outputs": [
    {
     "name": "stdout",
     "output_type": "stream",
     "text": [
      "The ice cream vanquished\n",
      "my longing for sweets,\n",
      "upon this diet I look away,\n",
      "it no longer exists on this day.\n",
      "\n"
     ]
    }
   ],
   "source": [
    "Multiline = \"\"\"The ice cream vanquished\n",
    "my longing for sweets,\n",
    "upon this diet I look away,\n",
    "it no longer exists on this day.\n",
    "\"\"\"\n",
    "\n",
    "print(Multiline)"
   ]
  },
  {
   "cell_type": "code",
   "execution_count": 41,
   "id": "e3b1a666-0544-4387-9319-54533c45e14a",
   "metadata": {},
   "outputs": [
    {
     "name": "stdout",
     "output_type": "stream",
     "text": [
      "Hello World!\n"
     ]
    }
   ],
   "source": [
    "a = \"Hello World!\"\n",
    "print(a)"
   ]
  },
  {
   "cell_type": "code",
   "execution_count": 43,
   "id": "a434bf01-a668-4ff4-bc45-104ec5e274e2",
   "metadata": {},
   "outputs": [
    {
     "name": "stdout",
     "output_type": "stream",
     "text": [
      "Hello\n"
     ]
    }
   ],
   "source": [
    "a = \"Hello World!\"\n",
    "print(a[:5])"
   ]
  },
  {
   "cell_type": "code",
   "execution_count": 45,
   "id": "6e1f4eca-c34b-4334-93d6-f8edc586ccdb",
   "metadata": {},
   "outputs": [
    {
     "name": "stdout",
     "output_type": "stream",
     "text": [
      "W\n"
     ]
    }
   ],
   "source": [
    "a = \"Hello World!\"\n",
    "print(a[6])"
   ]
  },
  {
   "cell_type": "code",
   "execution_count": 47,
   "id": "b93758c3-da2e-4dd3-b298-5df2bf35e7ae",
   "metadata": {},
   "outputs": [
    {
     "name": "stdout",
     "output_type": "stream",
     "text": [
      "llo \n"
     ]
    }
   ],
   "source": [
    "a = \"Hello World!\"\n",
    "print(a[2:6])"
   ]
  },
  {
   "cell_type": "code",
   "execution_count": 51,
   "id": "17b575cb-fae2-4e35-873b-f80cee3e1a48",
   "metadata": {},
   "outputs": [
    {
     "name": "stdout",
     "output_type": "stream",
     "text": [
      "llo W\n"
     ]
    }
   ],
   "source": [
    "a = \"Hello World!\"\n",
    "print(a[2:7])"
   ]
  },
  {
   "cell_type": "code",
   "execution_count": 53,
   "id": "74d4e598-154b-41d9-bd84-d97217f8834c",
   "metadata": {},
   "outputs": [
    {
     "name": "stdout",
     "output_type": "stream",
     "text": [
      "Hello World!Hello World!Hello World!\n"
     ]
    }
   ],
   "source": [
    "a = \"Hello World!\"\n",
    "print(a * 3)"
   ]
  },
  {
   "cell_type": "code",
   "execution_count": 55,
   "id": "851fe59f-6e46-48be-a628-a19dafe6dd61",
   "metadata": {},
   "outputs": [
    {
     "data": {
      "text/plain": [
       "'Hello World!Hello World!'"
      ]
     },
     "execution_count": 55,
     "metadata": {},
     "output_type": "execute_result"
    }
   ],
   "source": [
    "a + a"
   ]
  },
  {
   "cell_type": "code",
   "execution_count": 57,
   "id": "00db2c9e-f0c6-416e-a262-b3969385ab2d",
   "metadata": {},
   "outputs": [
    {
     "data": {
      "text/plain": [
       "'Hello World!Hello World!Hello World!'"
      ]
     },
     "execution_count": 57,
     "metadata": {},
     "output_type": "execute_result"
    }
   ],
   "source": [
    "a *3"
   ]
  },
  {
   "cell_type": "code",
   "execution_count": 59,
   "id": "04748983-c779-4ba4-b6d9-7a41383762c5",
   "metadata": {},
   "outputs": [
    {
     "data": {
      "text/plain": [
       "[1, 2, 3]"
      ]
     },
     "execution_count": 59,
     "metadata": {},
     "output_type": "execute_result"
    }
   ],
   "source": [
    "# Lists\n",
    "[1,2,3]"
   ]
  },
  {
   "cell_type": "code",
   "execution_count": 61,
   "id": "c7e54322-6371-465a-93d5-f461e5152414",
   "metadata": {},
   "outputs": [
    {
     "data": {
      "text/plain": [
       "['Cookie Dough', 'Strawberry', 'Chocolate']"
      ]
     },
     "execution_count": 61,
     "metadata": {},
     "output_type": "execute_result"
    }
   ],
   "source": [
    "['Cookie Dough','Strawberry','Chocolate']"
   ]
  },
  {
   "cell_type": "code",
   "execution_count": 67,
   "id": "10dad991-dd27-4f8f-b1c0-7f58cf5b897b",
   "metadata": {},
   "outputs": [
    {
     "data": {
      "text/plain": [
       "['Vanilla', 3, ['Spoons', 'Scoops'], True]"
      ]
     },
     "execution_count": 67,
     "metadata": {},
     "output_type": "execute_result"
    }
   ],
   "source": [
    "['Vanilla', 3,['Spoons', 'Scoops'],True]"
   ]
  },
  {
   "cell_type": "code",
   "execution_count": 69,
   "id": "55bf3864-709a-4bb6-9da2-18153dc37c6d",
   "metadata": {},
   "outputs": [
    {
     "data": {
      "text/plain": [
       "['Cookie Dough', 'Strawberry', 'Chocolate', 'Salted Caramel']"
      ]
     },
     "execution_count": 69,
     "metadata": {},
     "output_type": "execute_result"
    }
   ],
   "source": [
    "ice_cream = ['Cookie Dough','Strawberry','Chocolate']\n",
    "ice_cream.append('Salted Caramel')\n",
    "ice_cream"
   ]
  },
  {
   "cell_type": "code",
   "execution_count": 71,
   "id": "99b44d51-a618-45bd-b6bc-f3f4ea965511",
   "metadata": {},
   "outputs": [
    {
     "data": {
      "text/plain": [
       "'Cookie Dough'"
      ]
     },
     "execution_count": 71,
     "metadata": {},
     "output_type": "execute_result"
    }
   ],
   "source": [
    "ice_cream[0]"
   ]
  },
  {
   "cell_type": "code",
   "execution_count": 73,
   "id": "3363d1a0-47c6-4d7c-b83c-db1c361c7b7d",
   "metadata": {},
   "outputs": [
    {
     "data": {
      "text/plain": [
       "['Butter Pecan', 'Strawberry', 'Chocolate', 'Salted Caramel']"
      ]
     },
     "execution_count": 73,
     "metadata": {},
     "output_type": "execute_result"
    }
   ],
   "source": [
    "ice_cream[0] = 'Butter Pecan'\n",
    "ice_cream"
   ]
  },
  {
   "cell_type": "code",
   "execution_count": 75,
   "id": "397a426f-c39f-4b54-ac31-7758bb9766b1",
   "metadata": {},
   "outputs": [],
   "source": [
    "nest_list = ['Vanilla', 3,['Spoons', 'Scoops'],True]"
   ]
  },
  {
   "cell_type": "code",
   "execution_count": 78,
   "id": "5469ce07-e958-427f-b9ed-3b58b1b1af61",
   "metadata": {},
   "outputs": [
    {
     "data": {
      "text/plain": [
       "'Vanilla'"
      ]
     },
     "execution_count": 78,
     "metadata": {},
     "output_type": "execute_result"
    }
   ],
   "source": [
    "nest_list[0]"
   ]
  },
  {
   "cell_type": "code",
   "execution_count": 80,
   "id": "540529ee-107f-4805-aa7b-8714a2b67afe",
   "metadata": {},
   "outputs": [
    {
     "data": {
      "text/plain": [
       "3"
      ]
     },
     "execution_count": 80,
     "metadata": {},
     "output_type": "execute_result"
    }
   ],
   "source": [
    "nest_list[1]"
   ]
  },
  {
   "cell_type": "code",
   "execution_count": 82,
   "id": "274a475c-1438-434e-8bb0-4cd7b53245f3",
   "metadata": {},
   "outputs": [
    {
     "data": {
      "text/plain": [
       "['Spoons', 'Scoops']"
      ]
     },
     "execution_count": 82,
     "metadata": {},
     "output_type": "execute_result"
    }
   ],
   "source": [
    "nest_list[2]"
   ]
  },
  {
   "cell_type": "code",
   "execution_count": 84,
   "id": "fc8addcb-c74b-4670-98b2-b2ae47b1dc6b",
   "metadata": {},
   "outputs": [
    {
     "data": {
      "text/plain": [
       "'Scoops'"
      ]
     },
     "execution_count": 84,
     "metadata": {},
     "output_type": "execute_result"
    }
   ],
   "source": [
    "nest_list[2][1]"
   ]
  },
  {
   "cell_type": "code",
   "execution_count": 86,
   "id": "ec01b6a1-fbde-452f-b98a-42fd1fa8badd",
   "metadata": {},
   "outputs": [
    {
     "data": {
      "text/plain": [
       "True"
      ]
     },
     "execution_count": 86,
     "metadata": {},
     "output_type": "execute_result"
    }
   ],
   "source": [
    "nest_list[3]"
   ]
  },
  {
   "cell_type": "code",
   "execution_count": 88,
   "id": "14ff8190-5fae-41f8-90d6-7c280b1effc7",
   "metadata": {},
   "outputs": [],
   "source": [
    "# tuple\n",
    "\n",
    "tuple_scoops = (1,2,3,2,1)"
   ]
  },
  {
   "cell_type": "code",
   "execution_count": 90,
   "id": "6c764d3f-58ed-4f16-a8d7-d94e623a0921",
   "metadata": {},
   "outputs": [
    {
     "data": {
      "text/plain": [
       "tuple"
      ]
     },
     "execution_count": 90,
     "metadata": {},
     "output_type": "execute_result"
    }
   ],
   "source": [
    "type(tuple_scoops)"
   ]
  },
  {
   "cell_type": "code",
   "execution_count": 92,
   "id": "2bf9fed4-591c-4a91-bcea-fcf5bba004de",
   "metadata": {},
   "outputs": [
    {
     "data": {
      "text/plain": [
       "1"
      ]
     },
     "execution_count": 92,
     "metadata": {},
     "output_type": "execute_result"
    }
   ],
   "source": [
    "tuple_scoops[0]"
   ]
  },
  {
   "cell_type": "code",
   "execution_count": 94,
   "id": "f18a08f5-fd7b-4faa-a32a-0b02c30c2e55",
   "metadata": {},
   "outputs": [
    {
     "data": {
      "text/plain": [
       "3"
      ]
     },
     "execution_count": 94,
     "metadata": {},
     "output_type": "execute_result"
    }
   ],
   "source": [
    "tuple_scoops[2]"
   ]
  },
  {
   "cell_type": "code",
   "execution_count": 96,
   "id": "46d58eb3-256c-450b-9124-ebc8060dc311",
   "metadata": {},
   "outputs": [
    {
     "ename": "AttributeError",
     "evalue": "'tuple' object has no attribute 'append'",
     "output_type": "error",
     "traceback": [
      "\u001b[1;31m---------------------------------------------------------------------------\u001b[0m",
      "\u001b[1;31mAttributeError\u001b[0m                            Traceback (most recent call last)",
      "Cell \u001b[1;32mIn[96], line 1\u001b[0m\n\u001b[1;32m----> 1\u001b[0m tuple_scoops\u001b[38;5;241m.\u001b[39mappend(\u001b[38;5;241m3\u001b[39m)\n",
      "\u001b[1;31mAttributeError\u001b[0m: 'tuple' object has no attribute 'append'"
     ]
    }
   ],
   "source": [
    "tuple_scoops.append(3)"
   ]
  },
  {
   "cell_type": "code",
   "execution_count": 100,
   "id": "b40262fe-4a48-4d4b-bd3b-070301f4b23d",
   "metadata": {},
   "outputs": [],
   "source": [
    "# sets\n",
    "\n",
    "daily_pints = {1,2,3}"
   ]
  },
  {
   "cell_type": "code",
   "execution_count": 102,
   "id": "f2759256-fede-4dca-84cb-21bf047d3599",
   "metadata": {},
   "outputs": [
    {
     "name": "stdout",
     "output_type": "stream",
     "text": [
      "{1, 2, 3}\n"
     ]
    }
   ],
   "source": [
    "print(daily_pints)"
   ]
  },
  {
   "cell_type": "code",
   "execution_count": 104,
   "id": "22287d89-7fd1-4d69-a9c4-dd24a259291e",
   "metadata": {},
   "outputs": [
    {
     "data": {
      "text/plain": [
       "set"
      ]
     },
     "execution_count": 104,
     "metadata": {},
     "output_type": "execute_result"
    }
   ],
   "source": [
    "type(daily_pints)"
   ]
  },
  {
   "cell_type": "code",
   "execution_count": 106,
   "id": "24ed25c1-c538-4111-b2c5-f4e4edd68001",
   "metadata": {},
   "outputs": [
    {
     "ename": "TypeError",
     "evalue": "'set' object is not subscriptable",
     "output_type": "error",
     "traceback": [
      "\u001b[1;31m---------------------------------------------------------------------------\u001b[0m",
      "\u001b[1;31mTypeError\u001b[0m                                 Traceback (most recent call last)",
      "Cell \u001b[1;32mIn[106], line 1\u001b[0m\n\u001b[1;32m----> 1\u001b[0m daily_pints[\u001b[38;5;241m0\u001b[39m]\n",
      "\u001b[1;31mTypeError\u001b[0m: 'set' object is not subscriptable"
     ]
    }
   ],
   "source": [
    "daily_pints[0]"
   ]
  },
  {
   "cell_type": "code",
   "execution_count": 108,
   "id": "fbd965fd-69ea-4fd3-a3e7-d92fb5dfc31a",
   "metadata": {},
   "outputs": [
    {
     "data": {
      "text/plain": [
       "{1, 2, 3}"
      ]
     },
     "execution_count": 108,
     "metadata": {},
     "output_type": "execute_result"
    }
   ],
   "source": [
    "daily_pints"
   ]
  },
  {
   "cell_type": "code",
   "execution_count": 112,
   "id": "3e2f9b18-6678-4690-b270-29e29eab1c6a",
   "metadata": {},
   "outputs": [
    {
     "name": "stdout",
     "output_type": "stream",
     "text": [
      "{1, 2, 3, 4, 5, 6, 41, 75}\n"
     ]
    }
   ],
   "source": [
    "daily_pints_log = {1,2,41,75,4,2,3,6,1,41,5,6}\n",
    "print(daily_pints_log)"
   ]
  },
  {
   "cell_type": "code",
   "execution_count": 114,
   "id": "56bd94fa-adb0-46ad-ab6f-24c6b67c927f",
   "metadata": {},
   "outputs": [],
   "source": [
    "wifes_daily_pints_log = {1,31,5,6,41,3,0,2,5}"
   ]
  },
  {
   "cell_type": "code",
   "execution_count": 116,
   "id": "cbd5774e-5413-41f2-bd92-e3542cc70df1",
   "metadata": {},
   "outputs": [
    {
     "name": "stdout",
     "output_type": "stream",
     "text": [
      "{0, 1, 2, 3, 4, 5, 6, 41, 75, 31}\n"
     ]
    }
   ],
   "source": [
    "print(daily_pints_log | wifes_daily_pints_log)"
   ]
  },
  {
   "cell_type": "code",
   "execution_count": 118,
   "id": "6d01267f-8069-4f4a-a236-b00c56b8bf62",
   "metadata": {},
   "outputs": [
    {
     "name": "stdout",
     "output_type": "stream",
     "text": [
      "{1, 2, 3, 5, 6, 41}\n"
     ]
    }
   ],
   "source": [
    "print(daily_pints_log & wifes_daily_pints_log)"
   ]
  },
  {
   "cell_type": "code",
   "execution_count": 120,
   "id": "ca56d3f2-6c48-4431-b863-9b6278bebc75",
   "metadata": {},
   "outputs": [
    {
     "name": "stdout",
     "output_type": "stream",
     "text": [
      "{75, 4}\n"
     ]
    }
   ],
   "source": [
    "print(daily_pints_log - wifes_daily_pints_log)"
   ]
  },
  {
   "cell_type": "code",
   "execution_count": 122,
   "id": "8232b339-1b2d-4435-a4b8-c197804480a3",
   "metadata": {},
   "outputs": [
    {
     "name": "stdout",
     "output_type": "stream",
     "text": [
      "{0, 4, 75, 31}\n"
     ]
    }
   ],
   "source": [
    "print(daily_pints_log ^ wifes_daily_pints_log)"
   ]
  },
  {
   "cell_type": "code",
   "execution_count": 124,
   "id": "4090ef37-13cf-4098-b0e1-442d4c39c6e4",
   "metadata": {},
   "outputs": [],
   "source": [
    "# dictonaries\n",
    "# Key/Value Pair\n",
    "\n",
    "dict_cream = {'name': 'Alex Freberg', 'weekly intake': 5, 'favorite ice creams': ['Mint Chocolate Chip','Chocolate']}"
   ]
  },
  {
   "cell_type": "code",
   "execution_count": 126,
   "id": "90be65c2-df5a-4022-b0b8-87dc344e55a4",
   "metadata": {},
   "outputs": [
    {
     "data": {
      "text/plain": [
       "dict"
      ]
     },
     "execution_count": 126,
     "metadata": {},
     "output_type": "execute_result"
    }
   ],
   "source": [
    "type(dict_cream)"
   ]
  },
  {
   "cell_type": "code",
   "execution_count": 128,
   "id": "2827c465-187d-41f6-8e88-362a8502f022",
   "metadata": {},
   "outputs": [
    {
     "name": "stdout",
     "output_type": "stream",
     "text": [
      "{'name': 'Alex Freberg', 'weekly intake': 5, 'favorite ice creams': ['Mint Chocolate Chip', 'Chocolate']}\n"
     ]
    }
   ],
   "source": [
    "print(dict_cream)"
   ]
  },
  {
   "cell_type": "code",
   "execution_count": 130,
   "id": "8edf201e-c89b-42d2-9401-011ef456821d",
   "metadata": {},
   "outputs": [
    {
     "data": {
      "text/plain": [
       "dict_values(['Alex Freberg', 5, ['Mint Chocolate Chip', 'Chocolate']])"
      ]
     },
     "execution_count": 130,
     "metadata": {},
     "output_type": "execute_result"
    }
   ],
   "source": [
    "dict_cream.values()"
   ]
  },
  {
   "cell_type": "code",
   "execution_count": 132,
   "id": "b1af26e8-7b61-45e2-9515-b7a49547081f",
   "metadata": {},
   "outputs": [
    {
     "data": {
      "text/plain": [
       "dict_keys(['name', 'weekly intake', 'favorite ice creams'])"
      ]
     },
     "execution_count": 132,
     "metadata": {},
     "output_type": "execute_result"
    }
   ],
   "source": [
    "dict_cream.keys()"
   ]
  },
  {
   "cell_type": "code",
   "execution_count": 134,
   "id": "c1d084f4-ac91-4119-89b4-8ebc4d9e3ca5",
   "metadata": {},
   "outputs": [
    {
     "data": {
      "text/plain": [
       "dict_items([('name', 'Alex Freberg'), ('weekly intake', 5), ('favorite ice creams', ['Mint Chocolate Chip', 'Chocolate'])])"
      ]
     },
     "execution_count": 134,
     "metadata": {},
     "output_type": "execute_result"
    }
   ],
   "source": [
    "dict_cream.items()"
   ]
  },
  {
   "cell_type": "code",
   "execution_count": 136,
   "id": "7d56c4e9-df3d-4d2a-8318-1e78139405fb",
   "metadata": {},
   "outputs": [
    {
     "ename": "KeyError",
     "evalue": "0",
     "output_type": "error",
     "traceback": [
      "\u001b[1;31m---------------------------------------------------------------------------\u001b[0m",
      "\u001b[1;31mKeyError\u001b[0m                                  Traceback (most recent call last)",
      "Cell \u001b[1;32mIn[136], line 1\u001b[0m\n\u001b[1;32m----> 1\u001b[0m dict_cream[\u001b[38;5;241m0\u001b[39m]\n",
      "\u001b[1;31mKeyError\u001b[0m: 0"
     ]
    }
   ],
   "source": [
    "dict_cream[0]"
   ]
  },
  {
   "cell_type": "code",
   "execution_count": 140,
   "id": "e5c5e799-e044-4ca6-b76a-bd92d4731751",
   "metadata": {},
   "outputs": [
    {
     "data": {
      "text/plain": [
       "'Alex Freberg'"
      ]
     },
     "execution_count": 140,
     "metadata": {},
     "output_type": "execute_result"
    }
   ],
   "source": [
    "dict_cream['name']"
   ]
  },
  {
   "cell_type": "code",
   "execution_count": 142,
   "id": "9136597b-7656-4d0d-bef7-6b0408bcf72c",
   "metadata": {},
   "outputs": [],
   "source": [
    "dict_cream['name'] = 'Christine Freberg'"
   ]
  },
  {
   "cell_type": "code",
   "execution_count": 144,
   "id": "859db2ce-47d5-4c8e-8d8d-8f2e91f7a2da",
   "metadata": {},
   "outputs": [
    {
     "name": "stdout",
     "output_type": "stream",
     "text": [
      "{'name': 'Christine Freberg', 'weekly intake': 5, 'favorite ice creams': ['Mint Chocolate Chip', 'Chocolate']}\n"
     ]
    }
   ],
   "source": [
    "print(dict_cream)"
   ]
  },
  {
   "cell_type": "code",
   "execution_count": 150,
   "id": "2bdefc65-0ccf-40d7-a718-6d8545dba3e0",
   "metadata": {},
   "outputs": [
    {
     "name": "stdout",
     "output_type": "stream",
     "text": [
      "{'name': 'Christine Freberg', 'weekly intake': 5, 'favorite ice creams': ['Mint Chocolate Chip', 'Chocolate'], 'Weight': 300}\n"
     ]
    }
   ],
   "source": [
    "dict_cream.update({'name': 'Christine Freberg', 'weekly intake': 5, 'Weight' : 300})\n",
    "print(dict_cream)"
   ]
  },
  {
   "cell_type": "code",
   "execution_count": 152,
   "id": "b463cfbe-f3d3-4e0a-9ac7-80afc27c1db9",
   "metadata": {},
   "outputs": [],
   "source": [
    "del dict_cream['Weight']"
   ]
  },
  {
   "cell_type": "code",
   "execution_count": 154,
   "id": "a2325334-8d4a-407c-b1f4-cea277f33623",
   "metadata": {},
   "outputs": [
    {
     "name": "stdout",
     "output_type": "stream",
     "text": [
      "{'name': 'Christine Freberg', 'weekly intake': 5, 'favorite ice creams': ['Mint Chocolate Chip', 'Chocolate']}\n"
     ]
    }
   ],
   "source": [
    "print(dict_cream)"
   ]
  },
  {
   "cell_type": "code",
   "execution_count": null,
   "id": "8fe6ebf7-434d-44ed-bc24-a62688bac99e",
   "metadata": {},
   "outputs": [],
   "source": []
  }
 ],
 "metadata": {
  "kernelspec": {
   "display_name": "Python 3 (ipykernel)",
   "language": "python",
   "name": "python3"
  },
  "language_info": {
   "codemirror_mode": {
    "name": "ipython",
    "version": 3
   },
   "file_extension": ".py",
   "mimetype": "text/x-python",
   "name": "python",
   "nbconvert_exporter": "python",
   "pygments_lexer": "ipython3",
   "version": "3.12.4"
  }
 },
 "nbformat": 4,
 "nbformat_minor": 5
}
